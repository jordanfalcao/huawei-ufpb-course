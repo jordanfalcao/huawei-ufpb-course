{
  "nbformat": 4,
  "nbformat_minor": 0,
  "metadata": {
    "kernelspec": {
      "display_name": "Python 3",
      "language": "python",
      "name": "python3"
    },
    "language_info": {
      "codemirror_mode": {
        "name": "ipython",
        "version": 3
      },
      "file_extension": ".py",
      "mimetype": "text/x-python",
      "name": "python",
      "nbconvert_exporter": "python",
      "pygments_lexer": "ipython3",
      "version": "3.7.4"
    },
    "toc": {
      "base_numbering": 1,
      "nav_menu": {},
      "number_sections": true,
      "sideBar": true,
      "skip_h1_title": false,
      "title_cell": "Table of Contents",
      "title_sidebar": "Contents",
      "toc_cell": false,
      "toc_position": {},
      "toc_section_display": true,
      "toc_window_display": false
    },
    "varInspector": {
      "cols": {
        "lenName": 16,
        "lenType": 16,
        "lenVar": 40
      },
      "kernels_config": {
        "python": {
          "delete_cmd_postfix": "",
          "delete_cmd_prefix": "del ",
          "library": "var_list.py",
          "varRefreshCmd": "print(var_dic_list())"
        },
        "r": {
          "delete_cmd_postfix": ") ",
          "delete_cmd_prefix": "rm(",
          "library": "var_list.r",
          "varRefreshCmd": "cat(var_dic_list()) "
        }
      },
      "types_to_exclude": [
        "module",
        "function",
        "builtin_function_or_method",
        "instance",
        "_Feature"
      ],
      "window_display": false
    },
    "colab": {
      "name": "estudo_de_caso_1D.ipynb",
      "provenance": []
    }
  },
  "cells": [
    {
      "cell_type": "markdown",
      "metadata": {
        "id": "VIEIr5w1KdR0"
      },
      "source": [
        "# Estudo de Caso: Regressão Linear"
      ]
    },
    {
      "cell_type": "code",
      "metadata": {
        "ExecuteTime": {
          "end_time": "2021-02-18T12:38:56.793666Z",
          "start_time": "2021-02-18T12:38:56.779674Z"
        },
        "id": "dhcaklpxKdR2"
      },
      "source": [
        "import pandas as pd\n",
        "import numpy as np\n",
        "import matplotlib.pyplot as plt"
      ],
      "execution_count": 57,
      "outputs": []
    },
    {
      "cell_type": "markdown",
      "metadata": {
        "id": "6961UuJMKdR3"
      },
      "source": [
        "## Para uma variável (1D)"
      ]
    },
    {
      "cell_type": "markdown",
      "metadata": {
        "id": "mgTsCweHKdR3"
      },
      "source": [
        "### Etapa 1: Entrada de Dados"
      ]
    },
    {
      "cell_type": "code",
      "metadata": {
        "ExecuteTime": {
          "end_time": "2021-02-18T12:38:56.809660Z",
          "start_time": "2021-02-18T12:38:56.797670Z"
        },
        "id": "ZXZZJxjzKdR5"
      },
      "source": [
        "filename = 'ex1data1.txt'\n",
        "df = pd.read_csv(filename,header=None,names=['População','Lucro'])"
      ],
      "execution_count": 58,
      "outputs": []
    },
    {
      "cell_type": "code",
      "metadata": {
        "ExecuteTime": {
          "end_time": "2021-02-18T12:38:56.841638Z",
          "start_time": "2021-02-18T12:38:56.813656Z"
        },
        "id": "wFbjYfNJKdR5",
        "colab": {
          "base_uri": "https://localhost:8080/",
          "height": 204
        },
        "outputId": "836fd039-8bea-4985-9a1e-7394361cc18c"
      },
      "source": [
        "df.head()"
      ],
      "execution_count": 59,
      "outputs": [
        {
          "output_type": "execute_result",
          "data": {
            "text/html": [
              "<div>\n",
              "<style scoped>\n",
              "    .dataframe tbody tr th:only-of-type {\n",
              "        vertical-align: middle;\n",
              "    }\n",
              "\n",
              "    .dataframe tbody tr th {\n",
              "        vertical-align: top;\n",
              "    }\n",
              "\n",
              "    .dataframe thead th {\n",
              "        text-align: right;\n",
              "    }\n",
              "</style>\n",
              "<table border=\"1\" class=\"dataframe\">\n",
              "  <thead>\n",
              "    <tr style=\"text-align: right;\">\n",
              "      <th></th>\n",
              "      <th>População</th>\n",
              "      <th>Lucro</th>\n",
              "    </tr>\n",
              "  </thead>\n",
              "  <tbody>\n",
              "    <tr>\n",
              "      <th>0</th>\n",
              "      <td>6.1101</td>\n",
              "      <td>17.5920</td>\n",
              "    </tr>\n",
              "    <tr>\n",
              "      <th>1</th>\n",
              "      <td>5.5277</td>\n",
              "      <td>9.1302</td>\n",
              "    </tr>\n",
              "    <tr>\n",
              "      <th>2</th>\n",
              "      <td>8.5186</td>\n",
              "      <td>13.6620</td>\n",
              "    </tr>\n",
              "    <tr>\n",
              "      <th>3</th>\n",
              "      <td>7.0032</td>\n",
              "      <td>11.8540</td>\n",
              "    </tr>\n",
              "    <tr>\n",
              "      <th>4</th>\n",
              "      <td>5.8598</td>\n",
              "      <td>6.8233</td>\n",
              "    </tr>\n",
              "  </tbody>\n",
              "</table>\n",
              "</div>"
            ],
            "text/plain": [
              "   População    Lucro\n",
              "0     6.1101  17.5920\n",
              "1     5.5277   9.1302\n",
              "2     8.5186  13.6620\n",
              "3     7.0032  11.8540\n",
              "4     5.8598   6.8233"
            ]
          },
          "metadata": {
            "tags": []
          },
          "execution_count": 59
        }
      ]
    },
    {
      "cell_type": "code",
      "metadata": {
        "ExecuteTime": {
          "end_time": "2021-02-18T12:38:56.873620Z",
          "start_time": "2021-02-18T12:38:56.846636Z"
        },
        "id": "0yUJ4y2OKdR7",
        "colab": {
          "base_uri": "https://localhost:8080/",
          "height": 204
        },
        "outputId": "77fb96c0-6149-48df-b45f-2ba2bc5f96bc"
      },
      "source": [
        "df.tail()"
      ],
      "execution_count": 60,
      "outputs": [
        {
          "output_type": "execute_result",
          "data": {
            "text/html": [
              "<div>\n",
              "<style scoped>\n",
              "    .dataframe tbody tr th:only-of-type {\n",
              "        vertical-align: middle;\n",
              "    }\n",
              "\n",
              "    .dataframe tbody tr th {\n",
              "        vertical-align: top;\n",
              "    }\n",
              "\n",
              "    .dataframe thead th {\n",
              "        text-align: right;\n",
              "    }\n",
              "</style>\n",
              "<table border=\"1\" class=\"dataframe\">\n",
              "  <thead>\n",
              "    <tr style=\"text-align: right;\">\n",
              "      <th></th>\n",
              "      <th>População</th>\n",
              "      <th>Lucro</th>\n",
              "    </tr>\n",
              "  </thead>\n",
              "  <tbody>\n",
              "    <tr>\n",
              "      <th>92</th>\n",
              "      <td>5.8707</td>\n",
              "      <td>7.20290</td>\n",
              "    </tr>\n",
              "    <tr>\n",
              "      <th>93</th>\n",
              "      <td>5.3054</td>\n",
              "      <td>1.98690</td>\n",
              "    </tr>\n",
              "    <tr>\n",
              "      <th>94</th>\n",
              "      <td>8.2934</td>\n",
              "      <td>0.14454</td>\n",
              "    </tr>\n",
              "    <tr>\n",
              "      <th>95</th>\n",
              "      <td>13.3940</td>\n",
              "      <td>9.05510</td>\n",
              "    </tr>\n",
              "    <tr>\n",
              "      <th>96</th>\n",
              "      <td>5.4369</td>\n",
              "      <td>0.61705</td>\n",
              "    </tr>\n",
              "  </tbody>\n",
              "</table>\n",
              "</div>"
            ],
            "text/plain": [
              "    População    Lucro\n",
              "92     5.8707  7.20290\n",
              "93     5.3054  1.98690\n",
              "94     8.2934  0.14454\n",
              "95    13.3940  9.05510\n",
              "96     5.4369  0.61705"
            ]
          },
          "metadata": {
            "tags": []
          },
          "execution_count": 60
        }
      ]
    },
    {
      "cell_type": "code",
      "metadata": {
        "ExecuteTime": {
          "end_time": "2021-02-18T12:38:56.889612Z",
          "start_time": "2021-02-18T12:38:56.877620Z"
        },
        "id": "Qmuol4sbKdR7"
      },
      "source": [
        "varX = 'População'\n",
        "varY = 'Lucro'\n",
        "\n",
        "X = df[varX].values\n",
        "y = df[varY].values\n",
        "m = y.size"
      ],
      "execution_count": 61,
      "outputs": []
    },
    {
      "cell_type": "markdown",
      "metadata": {
        "id": "7ohWeWxOKdR8"
      },
      "source": [
        "### Etapa 2: Visualização Inicial"
      ]
    },
    {
      "cell_type": "code",
      "metadata": {
        "ExecuteTime": {
          "end_time": "2021-02-18T12:38:57.237411Z",
          "start_time": "2021-02-18T12:38:56.892610Z"
        },
        "scrolled": false,
        "id": "A1OMFDYtKdR8",
        "colab": {
          "base_uri": "https://localhost:8080/",
          "height": 356
        },
        "outputId": "2f70c722-f88f-4162-9348-aa78d665a4c5"
      },
      "source": [
        "fig = plt.figure(figsize=(8,5))\n",
        "plt.title('Dados Originais', fontsize = 16)\n",
        "plt.grid()\n",
        "plt.xlabel(varX, fontsize = 14)\n",
        "plt.ylabel(varY, fontsize = 14)\n",
        "plt.scatter(X, y)\n",
        "plt.show()"
      ],
      "execution_count": 62,
      "outputs": [
        {
          "output_type": "display_data",
          "data": {
            "image/png": "[encoded data removed]",
            "text/plain": [
              "<Figure size 576x360 with 1 Axes>"
            ]
          },
          "metadata": {
            "tags": [],
            "needs_background": "light"
          }
        }
      ]
    },
    {
      "cell_type": "markdown",
      "metadata": {
        "id": "sEzMrSDlKdR9"
      },
      "source": [
        "### Etapa 3: Ajuste Manual"
      ]
    },
    {
      "cell_type": "code",
      "metadata": {
        "ExecuteTime": {
          "end_time": "2021-02-18T12:38:57.269394Z",
          "start_time": "2021-02-18T12:38:57.245408Z"
        },
        "id": "5omMaT6FKdR9",
        "colab": {
          "base_uri": "https://localhost:8080/"
        },
        "outputId": "534798a9-4153-4560-b1ca-8aa5fd7b09d3"
      },
      "source": [
        "# Construção de X\n",
        "\n",
        "Xn = np.ones((m,2))\n",
        "Xn[:,1] = X\n",
        "X = Xn\n",
        "print(X[:5,:])\n",
        "\n",
        "# X      *    w       =   yest\n",
        "# m x 2       2 x 1       m x 1"
      ],
      "execution_count": 63,
      "outputs": [
        {
          "output_type": "stream",
          "text": [
            "[[1.     6.1101]\n",
            " [1.     5.5277]\n",
            " [1.     8.5186]\n",
            " [1.     7.0032]\n",
            " [1.     5.8598]]\n"
          ],
          "name": "stdout"
        }
      ]
    },
    {
      "cell_type": "code",
      "metadata": {
        "ExecuteTime": {
          "end_time": "2021-02-18T12:38:57.301374Z",
          "start_time": "2021-02-18T12:38:57.279388Z"
        },
        "scrolled": true,
        "id": "wsb3OecIKdR9",
        "colab": {
          "base_uri": "https://localhost:8080/"
        },
        "outputId": "daa1e3a9-4003-41b6-b0d5-e7610dbe082d"
      },
      "source": [
        "# Construção de y\n",
        "\n",
        "yn = np.zeros((m,1))\n",
        "yn[:,0] = y\n",
        "y = yn\n",
        "print(y[:5])\n",
        "\n",
        "# y\n",
        "# m x 1"
      ],
      "execution_count": 64,
      "outputs": [
        {
          "output_type": "stream",
          "text": [
            "[[17.592 ]\n",
            " [ 9.1302]\n",
            " [13.662 ]\n",
            " [11.854 ]\n",
            " [ 6.8233]]\n"
          ],
          "name": "stdout"
        }
      ]
    },
    {
      "cell_type": "code",
      "metadata": {
        "ExecuteTime": {
          "end_time": "2021-02-18T12:38:57.333357Z",
          "start_time": "2021-02-18T12:38:57.309373Z"
        },
        "id": "TW15PfKUKdR-",
        "colab": {
          "base_uri": "https://localhost:8080/"
        },
        "outputId": "21176b18-8ac4-4e12-d38b-18a43b61dad2"
      },
      "source": [
        "# Construção de w\n",
        "\n",
        "w = np.array([[y.mean(),0]]).T\n",
        "w = np.array([[-1.0,1.0]]).T\n",
        "print(w)"
      ],
      "execution_count": 65,
      "outputs": [
        {
          "output_type": "stream",
          "text": [
            "[[-1.]\n",
            " [ 1.]]\n"
          ],
          "name": "stdout"
        }
      ]
    },
    {
      "cell_type": "code",
      "metadata": {
        "ExecuteTime": {
          "end_time": "2021-02-18T12:38:57.349348Z",
          "start_time": "2021-02-18T12:38:57.337354Z"
        },
        "id": "eAkLXIr4KdR-"
      },
      "source": [
        "yest = X.dot(w) # yest = X * w"
      ],
      "execution_count": 66,
      "outputs": []
    },
    {
      "cell_type": "code",
      "metadata": {
        "ExecuteTime": {
          "end_time": "2021-02-18T12:38:57.380329Z",
          "start_time": "2021-02-18T12:38:57.355344Z"
        },
        "id": "nb424-yrKdR_",
        "colab": {
          "base_uri": "https://localhost:8080/"
        },
        "outputId": "4ac54dbf-2101-4752-9b21-9d8856bf0213"
      },
      "source": [
        "print(y[:5])"
      ],
      "execution_count": 67,
      "outputs": [
        {
          "output_type": "stream",
          "text": [
            "[[17.592 ]\n",
            " [ 9.1302]\n",
            " [13.662 ]\n",
            " [11.854 ]\n",
            " [ 6.8233]]\n"
          ],
          "name": "stdout"
        }
      ]
    },
    {
      "cell_type": "code",
      "metadata": {
        "ExecuteTime": {
          "end_time": "2021-02-18T12:38:57.680181Z",
          "start_time": "2021-02-18T12:38:57.385327Z"
        },
        "scrolled": false,
        "id": "Ad5NdOL6KdR_",
        "colab": {
          "base_uri": "https://localhost:8080/",
          "height": 404
        },
        "outputId": "0e2e44a7-6cc1-45d5-e7bd-61d6a4bb289e"
      },
      "source": [
        "fig = plt.figure(figsize=(10,6))\n",
        "plt.title(f'Dados Originais e Reta')\n",
        "plt.grid()\n",
        "plt.xlabel(varX)\n",
        "plt.ylabel(varY)\n",
        "plt.scatter(X[:,1], y)\n",
        "plt.plot(X[:,1], yest, color='red')\n",
        "plt.show()"
      ],
      "execution_count": 68,
      "outputs": [
        {
          "output_type": "display_data",
          "data": {
            "image/png": "[encoded data removed]",
            "text/plain": [
              "<Figure size 720x432 with 1 Axes>"
            ]
          },
          "metadata": {
            "tags": [],
            "needs_background": "light"
          }
        }
      ]
    },
    {
      "cell_type": "markdown",
      "metadata": {
        "id": "e2T3yIYOKdSA"
      },
      "source": [
        "### Etapa 4: Função de Perdas"
      ]
    },
    {
      "cell_type": "code",
      "metadata": {
        "ExecuteTime": {
          "end_time": "2021-02-18T12:38:57.949005Z",
          "start_time": "2021-02-18T12:38:57.683157Z"
        },
        "scrolled": false,
        "id": "QiIjn-6iKdSB",
        "colab": {
          "base_uri": "https://localhost:8080/",
          "height": 404
        },
        "outputId": "ca7b79d8-90e3-4e9d-9f25-2e000d840adb"
      },
      "source": [
        "w = np.array([[-1.0,1.0]]).T\n",
        "\n",
        "yest = X.dot(w)\n",
        "erro = yest - y\n",
        "fp = (erro**2).mean()/2\n",
        "\n",
        "fig = plt.figure(figsize=(10,6))\n",
        "plt.title(f'Dados Originais e Reta (MSE = {fp})')\n",
        "plt.grid()\n",
        "plt.xlabel(varX)\n",
        "plt.ylabel(varY)\n",
        "plt.scatter(X[:,1], y)\n",
        "plt.plot(X[:,1], yest, color='red')\n",
        "plt.show()"
      ],
      "execution_count": 69,
      "outputs": [
        {
          "output_type": "display_data",
          "data": {
            "image/png": "[encoded data removed]",
            "text/plain": [
              "<Figure size 720x432 with 1 Axes>"
            ]
          },
          "metadata": {
            "tags": [],
            "needs_background": "light"
          }
        }
      ]
    },
    {
      "cell_type": "markdown",
      "metadata": {
        "ExecuteTime": {
          "end_time": "2021-02-12T14:23:44.498014Z",
          "start_time": "2021-02-12T14:23:44.478023Z"
        },
        "id": "vRuaB3KvKdSC"
      },
      "source": [
        "### Etapa 5: Gradient Descent"
      ]
    },
    {
      "cell_type": "code",
      "metadata": {
        "ExecuteTime": {
          "end_time": "2021-02-18T12:38:57.964993Z",
          "start_time": "2021-02-18T12:38:57.953002Z"
        },
        "id": "mjEpbSDQKdSC"
      },
      "source": [
        "def calcula_Jw(X, y, w):\n",
        "  yest = X.dot(w)\n",
        "  erro = yest - y\n",
        "  return (erro**2).mean()/2"
      ],
      "execution_count": 70,
      "outputs": []
    },
    {
      "cell_type": "code",
      "metadata": {
        "ExecuteTime": {
          "end_time": "2021-02-18T12:38:57.980985Z",
          "start_time": "2021-02-18T12:38:57.968997Z"
        },
        "id": "CVYNX5JQKdSC"
      },
      "source": [
        "def calcula_iteracoes_GD(X, y, w, alpha, iters):\n",
        "  m = y.size\n",
        "  mem_Jw = np.zeros((iters,1))\n",
        "  \n",
        "  for iter in range(iters):\n",
        "    yest = X.dot(w)\n",
        "    w = w - (alpha/m) * (X.T).dot(yest - y)\n",
        "    mem_Jw[iter] = calcula_Jw(X, y, w)\n",
        "    \n",
        "  return w, mem_Jw"
      ],
      "execution_count": 71,
      "outputs": []
    },
    {
      "cell_type": "code",
      "metadata": {
        "ExecuteTime": {
          "end_time": "2021-02-18T12:40:05.280586Z",
          "start_time": "2021-02-18T12:40:05.186635Z"
        },
        "id": "Herz8YtFKdSD",
        "colab": {
          "base_uri": "https://localhost:8080/"
        },
        "outputId": "6d541d1f-93e7-4f65-a95a-0ead23d29f93"
      },
      "source": [
        "# Teste\n",
        "\n",
        "w = np.array([[y.mean(),0]]).T\n",
        "alpha = 0.02\n",
        "iters = 2000\n",
        "w,mem_Jw = calcula_iteracoes_GD(X, y, w, alpha, iters)\n",
        "print(f'w = \\n{w}')"
      ],
      "execution_count": 72,
      "outputs": [
        {
          "output_type": "stream",
          "text": [
            "w = \n",
            "[[-3.88866551]\n",
            " [ 1.19231883]]\n"
          ],
          "name": "stdout"
        }
      ]
    },
    {
      "cell_type": "code",
      "metadata": {
        "ExecuteTime": {
          "end_time": "2021-02-18T12:38:58.340785Z",
          "start_time": "2021-02-18T12:38:58.075932Z"
        },
        "scrolled": false,
        "id": "gpfoszAhKdSE",
        "colab": {
          "base_uri": "https://localhost:8080/",
          "height": 404
        },
        "outputId": "26a69c90-cded-4d8e-c7b1-e391c636dd15"
      },
      "source": [
        "# Evolução\n",
        "\n",
        "fig = plt.figure(figsize=(10,6))\n",
        "plt.title(f'Evolução da função Jw')\n",
        "plt.grid()\n",
        "plt.xlabel('Iterações')\n",
        "plt.ylabel('J(w)')\n",
        "plt.plot(range(iters), mem_Jw)\n",
        "plt.show()"
      ],
      "execution_count": 73,
      "outputs": [
        {
          "output_type": "display_data",
          "data": {
            "image/png": "[encoded data removed]",
            "text/plain": [
              "<Figure size 720x432 with 1 Axes>"
            ]
          },
          "metadata": {
            "tags": [],
            "needs_background": "light"
          }
        }
      ]
    },
    {
      "cell_type": "code",
      "metadata": {
        "ExecuteTime": {
          "end_time": "2021-02-18T12:38:58.684582Z",
          "start_time": "2021-02-18T12:38:58.350776Z"
        },
        "id": "Aq0uiczlKdSF",
        "colab": {
          "base_uri": "https://localhost:8080/",
          "height": 404
        },
        "outputId": "9efec749-21c3-423e-fb83-cc8dd7ef6837"
      },
      "source": [
        "# Resposta obtida\n",
        "# 1000 => 0.01\n",
        "#  600 => 0.02\n",
        "\n",
        "yest = X.dot(w)\n",
        "\n",
        "fig = plt.figure(figsize=(10,6))\n",
        "plt.title(f'Dados Originais e Reta (MSE = {mem_Jw[-1]})')\n",
        "plt.grid()\n",
        "plt.xlabel(varX)\n",
        "plt.ylabel(varY)\n",
        "plt.scatter(X[:,1], y)\n",
        "plt.plot(X[:,1], yest, color='red')\n",
        "plt.show()"
      ],
      "execution_count": 74,
      "outputs": [
        {
          "output_type": "display_data",
          "data": {
            "image/png": "[encoded data removed]",
            "text/plain": [
              "<Figure size 720x432 with 1 Axes>"
            ]
          },
          "metadata": {
            "tags": [],
            "needs_background": "light"
          }
        }
      ]
    },
    {
      "cell_type": "code",
      "metadata": {
        "id": "v2lI-pHSKdSF"
      },
      "source": [
        ""
      ],
      "execution_count": 74,
      "outputs": []
    }
  ]
}