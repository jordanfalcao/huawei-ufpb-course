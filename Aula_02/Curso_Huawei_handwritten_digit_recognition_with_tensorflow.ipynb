{
  "nbformat": 4,
  "nbformat_minor": 0,
  "metadata": {
    "jupytext": {
      "cell_metadata_filter": "-all",
      "formats": "ipynb,py:percent"
    },
    "kernelspec": {
      "display_name": "Python 3",
      "language": "python",
      "name": "python3"
    },
    "language_info": {
      "codemirror_mode": {
        "name": "ipython",
        "version": 3
      },
      "file_extension": ".py",
      "mimetype": "text/x-python",
      "name": "python",
      "nbconvert_exporter": "python",
      "pygments_lexer": "ipython3",
      "version": "3.8.3"
    },
    "colab": {
      "name": "Curso_Huawei_handwritten_digit_recognition_with_tensorflow.ipynb",
      "provenance": []
    }
  },
  "cells": [
    {
      "cell_type": "markdown",
      "metadata": {
        "id": "H3twOSWEpIYq"
      },
      "source": [
        "# 3.1  Introduction\n",
        "- Handwritten digit recognition is a common image recognition task where computers recognize text in handwriting images. Different from printed fonts, handwriting of different people has different sizes and styles, making it difficult for computers to recognize handwriting.\n",
        "- This chapter describes the basic process of TensorFlow computing and basic elements for building a network."
      ]
    },
    {
      "cell_type": "markdown",
      "metadata": {
        "id": "SzZBQIRUpIYz"
      },
      "source": [
        "#  3.2  Objectives\n",
        "- Upon completion of this task, you will be able to:\n",
        "  - Master the basic process of TensorFlow computing.\n",
        "  - Be familiar with the basic elements of network building, including dataset, network model building, model training, and model validation."
      ]
    },
    {
      "cell_type": "markdown",
      "metadata": {
        "id": "YIUKBC4zpIY0"
      },
      "source": [
        "# 3.3  Experiment Steps\n",
        "- This experiment involves the following steps:\n",
        "  - Reading the MNIST handwritten digit dataset.\n",
        "  - Getting started with TensorFlow by using simple mathematical models.\n",
        "  - Implementing softmax regression by using high-level APIs.\n",
        "  - Visualizing prediction results.\n",
        "## 3.3.1  Project Description and Dataset Acquisition\n",
        "### 3.3.1.1  Description\n",
        "- This project applies deep learning and TensorFlow tools to train and build models based on the MNIST handwriting dataset.\n",
        "### 3.3.1.2  Data Acquisition and Processing\n",
        "#### 3.3.1.2.1  About the Dataset\n",
        "- The MNIST dataset is provided by the National Institute of Standards and Technology (NIST).\n",
        "- The dataset consists of handwritten digits from 250 individuals, of which 50% are high school students and 50% are staff from Bureau of the Census.\n",
        "- You can download the dataset from http://yann.lecun.com/exdb/mnist/, which consists of the following parts:\n",
        "  - Training set images: train-images-idx3-ubyte.gz (9.9 MB, 47 MB after decompression, including 60,000 samples)\n",
        "  - Training set labels: train-labels-idx1-ubyte.gz (29 KB, 60 KB after decompression, including 60,000 labels)\n",
        "  - Test set images: t10k-images-idx3-ubyte.gz (1.6 MB, 7.8 MB after decompression, including 10,000 samples)\n",
        "  - Test set labels: t10k-labels-idx1-ubyte.gz (5 KB, 10 KB after decompression, including 10,000 labels)\n",
        "- The MNIST dataset is an entry-level computer vision dataset that contains images of various handwritten digits.\n",
        "\n",
        "- It also contains one label for each image, to clarify the correct digit. For example, the labels for the preceding four images are 5, 0, 4, and 1.\n",
        "#### 3.3.1.2.2  MNIST Dataset Reading\n",
        "- Download the MNIST dataset directly from the official TensorFlow website and decompress it."
      ]
    },
    {
      "cell_type": "code",
      "metadata": {
        "id": "1K66t6mxpIY1"
      },
      "source": [
        "import os\n",
        "import tensorflow as tf\n",
        "from tensorflow import keras\n",
        "from tensorflow.keras import layers, optimizers, datasets\n",
        "from matplotlib import pyplot as plt\n",
        "import numpy as np"
      ],
      "execution_count": 1,
      "outputs": []
    },
    {
      "cell_type": "code",
      "metadata": {
        "id": "nlvYzFQJpIY2",
        "colab": {
          "base_uri": "https://localhost:8080/"
        },
        "outputId": "0d3ebac4-92f5-4280-be0c-751c0bd9f813"
      },
      "source": [
        "# dataset.mnist pode ser baixado direto \n",
        "(x_train_raw, y_train_raw), (x_test_raw, y_test_raw) = datasets.mnist.load_data()\n",
        "\n",
        "print(y_train_raw[0])  # primeira saída do treino\n",
        "print(x_train_raw.shape, y_train_raw.shape)\n",
        "print(x_test_raw.shape, y_test_raw.shape)"
      ],
      "execution_count": 2,
      "outputs": [
        {
          "output_type": "stream",
          "text": [
            "Downloading data from https://storage.googleapis.com/tensorflow/tf-keras-datasets/mnist.npz\n",
            "11493376/11490434 [==============================] - 0s 0us/step\n",
            "5\n",
            "(60000, 28, 28) (60000,)\n",
            "(10000, 28, 28) (10000,)\n"
          ],
          "name": "stdout"
        }
      ]
    },
    {
      "cell_type": "code",
      "metadata": {
        "id": "0kk6cpSXpIY3",
        "colab": {
          "base_uri": "https://localhost:8080/"
        },
        "outputId": "c2cdc0e5-c82b-4f05-a05c-32631b67bcf3"
      },
      "source": [
        "# Convert the labels into one-hot codes.\n",
        "# problema de classificação pra uma quantidade de categorias que vc definir 'num_classes'\n",
        "num_classes = 10\n",
        "y_train = keras.utils.to_categorical(y_train_raw, num_classes)\n",
        "y_test = keras.utils.to_categorical(y_test_raw, num_classes)\n",
        "print(y_train[0])  # saída em forma de classificação"
      ],
      "execution_count": 3,
      "outputs": [
        {
          "output_type": "stream",
          "text": [
            "[0. 0. 0. 0. 0. 1. 0. 0. 0. 0.]\n"
          ],
          "name": "stdout"
        }
      ]
    },
    {
      "cell_type": "markdown",
      "metadata": {
        "id": "cnEt2XRlpIY4"
      },
      "source": [
        "- In the MNIST dataset, the images are a tensor in the shape of [60000, 28, 28]. The first dimension is used to extract images, and the second and third dimensions are used to extract pixels in each image. Each element in this tensor indicates the strength of a pixel in an image. The value ranges from 0 to 255.\n",
        "- Label data is one-hot vectors. In a one-hot vector, one digit is 1, and digits in other dimensions are all 0s. For example, label 1 may be represented as [0,1,0,0,0,0,0,0,0,0,0,0]. Therefore, the labels are a digital matrix of [60000, 10]."
      ]
    },
    {
      "cell_type": "markdown",
      "metadata": {
        "id": "tWuccJQapIY4"
      },
      "source": [
        "## 3.3.2  Dataset Preprocessing and Visualization\n",
        "### 3.3.2.1  Data Visualization\n",
        "- Draw the first nine images."
      ]
    },
    {
      "cell_type": "code",
      "metadata": {
        "id": "y3RsfX1bpIY5",
        "colab": {
          "base_uri": "https://localhost:8080/",
          "height": 248
        },
        "outputId": "6ecc8745-e6ee-486e-e931-f3589a0e895b"
      },
      "source": [
        "# plotando as 9 primeiras entradas de treino\n",
        "plt.figure()\n",
        "for i in range(9):\n",
        "    plt.subplot(3, 3, i + 1)\n",
        "    plt.imshow(x_train_raw[i])\n",
        "    # plt.ylabel(y[i].numpy())\n",
        "    plt.axis(\"off\")\n",
        "plt.show()"
      ],
      "execution_count": 4,
      "outputs": [
        {
          "output_type": "display_data",
          "data": {
            "image/png": "[encoded data removed]",
            "text/plain": [
              "<Figure size 432x288 with 9 Axes>"
            ]
          },
          "metadata": {
            "tags": [],
            "needs_background": "light"
          }
        }
      ]
    },
    {
      "cell_type": "markdown",
      "metadata": {
        "id": "oHBTeETqpIY6"
      },
      "source": [
        "### 3.3.2.2  Data Preprocessing\n",
        "- An output of a fully connected network must be in the form of vector, instead of the matrix form of the current images. Therefore, you need to sort the images into vectors."
      ]
    },
    {
      "cell_type": "code",
      "metadata": {
        "id": "wF3DuH1HpIY6"
      },
      "source": [
        "# Convert a 28 x 28 image into a 784 x 1 vector.\n",
        "x_train = x_train_raw.reshape(60000, 784)  # a entrada será um vetor com 60000 images de tamanho 784 (= 28*28)\n",
        "x_test = x_test_raw.reshape(10000, 784)  # o mesmo para o teste"
      ],
      "execution_count": 5,
      "outputs": []
    },
    {
      "cell_type": "markdown",
      "metadata": {
        "id": "yDv5z-x0pIY6"
      },
      "source": [
        "- Currently, the dynamic range of pixels is 0 to 255. Image pixels are usually normalized to the range of 0 to 1 during processing of image pixel values."
      ]
    },
    {
      "cell_type": "code",
      "metadata": {
        "id": "pgHPj50cpIY7"
      },
      "source": [
        "# Normalize image pixel values.\n",
        "x_train = x_train.astype(\"float32\") / 255  # 255 é a quantidade máxima de pixels\n",
        "x_test = x_test.astype(\"float32\") / 255"
      ],
      "execution_count": 6,
      "outputs": []
    },
    {
      "cell_type": "markdown",
      "metadata": {
        "id": "XSeUsZcvpIY7"
      },
      "source": [
        "## 3.3.3  DNN Construction\n",
        "### 3.3.3.1  Building a DNN Model"
      ]
    },
    {
      "cell_type": "code",
      "metadata": {
        "id": "X4ElJbD5pIY7",
        "colab": {
          "base_uri": "https://localhost:8080/"
        },
        "outputId": "b0f0bd1a-7899-4886-f809-acf3affe672e"
      },
      "source": [
        "# Create a deep neural network (DNN) model that consists of three fully connected layers and two RELU activation functions.\n",
        "'''\n",
        "model = keras.Sequential(\n",
        "    [\n",
        "        layers.Dense(512, activation=\"relu\", input_dim=784),\n",
        "        layers.Dense(256, activation=\"relu\"),\n",
        "        layers.Dense(124, activation=\"relu\"),\n",
        "        layers.Dense(num_classes, activation=\"softmax\"),\n",
        "    ]\n",
        ")\n",
        "'''\n",
        "model = keras.Sequential([\n",
        "    keras.Input(shape=(784,)),  # input layer (1) - invariável\n",
        "    keras.layers.Dense(512, activation='relu'),  # hidden layer (1)\n",
        "    keras.layers.Dense(256, activation='relu'),  # hidden layer (2)\n",
        "    keras.layers.Dense(124, activation='relu'),  # hidden layer (3)\n",
        "    keras.layers.Dense(num_classes, activation='softmax') # output layer (4)  - invariável\n",
        "])\n",
        "\n",
        "model.summary()"
      ],
      "execution_count": 7,
      "outputs": [
        {
          "output_type": "stream",
          "text": [
            "WARNING:tensorflow:Please add `keras.layers.InputLayer` instead of `keras.Input` to Sequential model. `keras.Input` is intended to be used by Functional model.\n",
            "Model: \"sequential\"\n",
            "_________________________________________________________________\n",
            "Layer (type)                 Output Shape              Param #   \n",
            "=================================================================\n",
            "dense (Dense)                (None, 512)               401920    \n",
            "_________________________________________________________________\n",
            "dense_1 (Dense)              (None, 256)               131328    \n",
            "_________________________________________________________________\n",
            "dense_2 (Dense)              (None, 124)               31868     \n",
            "_________________________________________________________________\n",
            "dense_3 (Dense)              (None, 10)                1250      \n",
            "=================================================================\n",
            "Total params: 566,366\n",
            "Trainable params: 566,366\n",
            "Non-trainable params: 0\n",
            "_________________________________________________________________\n"
          ],
          "name": "stdout"
        }
      ]
    },
    {
      "cell_type": "markdown",
      "metadata": {
        "id": "LXKfWvr-pIY8"
      },
      "source": [
        "- layer.Dense() indicates a fully connected layer, and activation indicates a used activation function."
      ]
    },
    {
      "cell_type": "markdown",
      "metadata": {
        "id": "rZZQYG2OpIY8"
      },
      "source": [
        "### 3.3.3.2  Compiling the DNN Model"
      ]
    },
    {
      "cell_type": "code",
      "metadata": {
        "id": "5JwBl5YipIY8"
      },
      "source": [
        "Optimizer = optimizers.Adam(0.001)  # neste exemplos, estamo especificando uma taxa de aprendizagem\n",
        "model.compile(\n",
        "    loss=keras.losses.categorical_crossentropy,  # função de perda 'crossentropia categórica'\n",
        "    optimizer=Optimizer,\n",
        "    metrics=[\"accuracy\"],\n",
        ")"
      ],
      "execution_count": 9,
      "outputs": []
    },
    {
      "cell_type": "markdown",
      "metadata": {
        "id": "5ymAGywlpIY9"
      },
      "source": [
        "- In the preceding example, the loss function of the model is cross entropy, and the optimization algorithm is the Adam gradient descent method.\n",
        "\n",
        "### 3.3.3.3  Training the DNN Model"
      ]
    },
    {
      "cell_type": "code",
      "metadata": {
        "id": "nBG_X_TOpIY9",
        "colab": {
          "base_uri": "https://localhost:8080/"
        },
        "outputId": "56c0b9d7-1072-40b6-b80b-6be8bc04823c"
      },
      "source": [
        "# Fit the training data to the model by using the fit method.\n",
        "model.fit(x_train, y_train, batch_size=128, epochs=10, verbose=1)  # como temos muitos dados, separamos em batchs, 128 linhas de cada vez"
      ],
      "execution_count": 10,
      "outputs": [
        {
          "output_type": "stream",
          "text": [
            "Epoch 1/10\n",
            "469/469 [==============================] - 6s 12ms/step - loss: 0.2319 - accuracy: 0.9319\n",
            "Epoch 2/10\n",
            "469/469 [==============================] - 6s 12ms/step - loss: 0.0835 - accuracy: 0.9743\n",
            "Epoch 3/10\n",
            "469/469 [==============================] - 6s 12ms/step - loss: 0.0566 - accuracy: 0.9817\n",
            "Epoch 4/10\n",
            "469/469 [==============================] - 6s 12ms/step - loss: 0.0376 - accuracy: 0.9878\n",
            "Epoch 5/10\n",
            "469/469 [==============================] - 6s 12ms/step - loss: 0.0325 - accuracy: 0.9891\n",
            "Epoch 6/10\n",
            "469/469 [==============================] - 6s 12ms/step - loss: 0.0292 - accuracy: 0.9906\n",
            "Epoch 7/10\n",
            "469/469 [==============================] - 6s 12ms/step - loss: 0.0199 - accuracy: 0.9939\n",
            "Epoch 8/10\n",
            "469/469 [==============================] - 6s 12ms/step - loss: 0.0195 - accuracy: 0.9934\n",
            "Epoch 9/10\n",
            "469/469 [==============================] - 6s 12ms/step - loss: 0.0166 - accuracy: 0.9943\n",
            "Epoch 10/10\n",
            "469/469 [==============================] - 6s 12ms/step - loss: 0.0158 - accuracy: 0.9946\n"
          ],
          "name": "stdout"
        },
        {
          "output_type": "execute_result",
          "data": {
            "text/plain": [
              "<tensorflow.python.keras.callbacks.History at 0x7fe1df2fa410>"
            ]
          },
          "metadata": {
            "tags": []
          },
          "execution_count": 10
        }
      ]
    },
    {
      "cell_type": "markdown",
      "metadata": {
        "id": "qpDJiKWIpIY9"
      },
      "source": [
        "- Epoch indicates a specific round of training. In the preceding example, full data is iterated for 10 times."
      ]
    },
    {
      "cell_type": "markdown",
      "metadata": {
        "id": "xulCwjjUpIY-"
      },
      "source": [
        "### 3.3.3.4  Evaluating the DNN Model"
      ]
    },
    {
      "cell_type": "code",
      "metadata": {
        "colab": {
          "base_uri": "https://localhost:8080/"
        },
        "id": "Zj0UBhzKpIY-",
        "outputId": "4fba040d-a632-4b4d-f561-4e49e7d18ce2"
      },
      "source": [
        "score = model.evaluate(x_test, y_test, verbose=0)\n",
        "print(\"Test loss:\", score[0])\n",
        "print(\"Test accuracy:\", score[1])  # 97% de acerto nos dados de teste"
      ],
      "execution_count": 11,
      "outputs": [
        {
          "output_type": "stream",
          "text": [
            "Test loss: 0.10054995864629745\n",
            "Test accuracy: 0.9764000177383423\n"
          ],
          "name": "stdout"
        }
      ]
    },
    {
      "cell_type": "markdown",
      "metadata": {
        "id": "4kWRE-VnpIY_"
      },
      "source": [
        "- The evaluation shows that the model accuracy reaches 0.87, and 10 training iterations have been performed.\n",
        "### 3.3.3.5  Saving the DNN Model"
      ]
    },
    {
      "cell_type": "code",
      "metadata": {
        "id": "tVz8ID-FpIY_"
      },
      "source": [
        "# salvando o modelo criado\n",
        "import os\n",
        "os.makedirs('mnist_model', exist_ok=True)\n",
        "model.save(\"./mnist_model/final_DNN_model.h5\")"
      ],
      "execution_count": 12,
      "outputs": []
    },
    {
      "cell_type": "code",
      "metadata": {
        "id": "yBBa1qBdBUMy",
        "colab": {
          "base_uri": "https://localhost:8080/",
          "height": 385
        },
        "outputId": "834609fc-b516-4b1a-b3ba-4894791d20a4"
      },
      "source": [
        "# Visualize test set output results.\n",
        "import matplotlib.pyplot as plt\n",
        "\n",
        "%matplotlib inline\n",
        "def res_Visual(n):\n",
        "    final_opt_a = model.predict_classes(x_test)  # Perform predictions on the test set by using the model.\n",
        "    fig, ax = plt.subplots(nrows=int(n / 5), ncols=5)\n",
        "    ax = ax.flatten()\n",
        "    print(\"prediction results of the first {} images:\".format(n))\n",
        "    for i in range(n):\n",
        "        # Visualize image display.\n",
        "        img = x_test[i].reshape((28, 28))  # Read each row of data in the format of Ndarry.\n",
        "        plt.axis(\"off\")\n",
        "        ax[i].imshow(img, cmap=\"Greys\", interpolation=\"nearest\")  # Visualization\n",
        "        ax[i].axis(\"off\")\n",
        "        ax[i].set_title(f\"Pred: {final_opt_a[i]}\")\n",
        "    print(\"first {} images in the test set:\".format(n))\n",
        "    plt.tight_layout()\n",
        "\n",
        "\n",
        "res_Visual(30)"
      ],
      "execution_count": 13,
      "outputs": [
        {
          "output_type": "stream",
          "text": [
            "/usr/local/lib/python3.7/dist-packages/tensorflow/python/keras/engine/sequential.py:455: UserWarning: `model.predict_classes()` is deprecated and will be removed after 2021-01-01. Please use instead:* `np.argmax(model.predict(x), axis=-1)`,   if your model does multi-class classification   (e.g. if it uses a `softmax` last-layer activation).* `(model.predict(x) > 0.5).astype(\"int32\")`,   if your model does binary classification   (e.g. if it uses a `sigmoid` last-layer activation).\n",
            "  warnings.warn('`model.predict_classes()` is deprecated and '\n"
          ],
          "name": "stderr"
        },
        {
          "output_type": "stream",
          "text": [
            "prediction results of the first 30 images:\n",
            "first 30 images in the test set:\n"
          ],
          "name": "stdout"
        },
        {
          "output_type": "display_data",
          "data": {
            "image/png": "[encoded data removed]",
            "text/plain": [
              "<Figure size 432x288 with 30 Axes>"
            ]
          },
          "metadata": {
            "tags": [],
            "needs_background": "light"
          }
        }
      ]
    },
    {
      "cell_type": "code",
      "metadata": {
        "id": "2zkkMa-YDVjs"
      },
      "source": [
        ""
      ],
      "execution_count": null,
      "outputs": []
    }
  ]
}